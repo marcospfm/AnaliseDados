{
 "cells": [
  {
   "cell_type": "code",
   "execution_count": 6,
   "metadata": {},
   "outputs": [
    {
     "name": "stdout",
     "output_type": "stream",
     "text": [
      "   id   Nome FrequenciaAtividadeFisica    Sexo  Idade\n",
      "0   1  Leigh                     Often  Female   50.0\n",
      "1   2    NaN                   Monthly  Female   33.0\n",
      "2   3  Abran                     Often    Male   42.0\n",
      "3   4  Holly                      Once    Male   31.0\n",
      "4   5  Anthe                   Monthly  Female   57.0\n"
     ]
    }
   ],
   "source": [
    "import pandas as pd\n",
    "\n",
    "# Ler o arquivo CSV\n",
    "df = pd.read_csv('MOCK_DATA.csv')\n",
    "print(df.head())  # Mostra as primeiras linhas do DataFrame\n"
   ]
  },
  {
   "cell_type": "code",
   "execution_count": 7,
   "metadata": {},
   "outputs": [
    {
     "name": "stdout",
     "output_type": "stream",
     "text": [
      "Porcentagem por categoria:\n",
      "CategoriaPratica\n",
      "1x por semana ou mais    40.64\n",
      "Raramente                39.68\n",
      "Diaramente               19.68\n",
      "Name: proportion, dtype: float64\n"
     ]
    }
   ],
   "source": [
    "frequencia_categoria = {\n",
    "    'Daily': 'Diaramente',\n",
    "    'Weekly': '1x por semana ou mais',\n",
    "    'Monthly': '1x por semana ou mais',\n",
    "    'Seldom': 'Raramente',\n",
    "    'Yearly': 'Raramente',\n",
    "    None: 'Não prática'\n",
    "}\n",
    "df['CategoriaPratica'] = df['FrequenciaAtividadeFisica'].map(frequencia_categoria)\n",
    "\n",
    "categoria_percentual = df['CategoriaPratica'].value_counts(normalize=True) * 100\n",
    "print(\"Porcentagem por categoria:\")\n",
    "print(categoria_percentual)\n"
   ]
  },
  {
   "cell_type": "code",
   "execution_count": 12,
   "metadata": {},
   "outputs": [
    {
     "name": "stdout",
     "output_type": "stream",
     "text": [
      "\n",
      "Porcentagem de homens e mulheres que praticam pelo menos 1x por semana:\n",
      "Sexo\n",
      "Female    55.785124\n",
      "Male      44.214876\n",
      "Name: proportion, dtype: float64\n"
     ]
    }
   ],
   "source": [
    "# Filtrar quem pratica pelo menos 1 vez por semana\n",
    "praticam_semana = df[df['CategoriaPratica'] == '1x por semana ou mais']\n",
    "\n",
    "# Calcular porcentagem por sexo\n",
    "percentual_homens_mulheres = praticam_semana['Sexo'].value_counts(normalize=True) * 100\n",
    "print(\"\\nPorcentagem de homens e mulheres que praticam pelo menos 1x por semana:\")\n",
    "print(percentual_homens_mulheres)\n"
   ]
  },
  {
   "cell_type": "code",
   "execution_count": null,
   "metadata": {},
   "outputs": [
    {
     "name": "stdout",
     "output_type": "stream",
     "text": [
      "\n",
      "Faixa etária 20–29 anos:\n",
      "{'Homens que praticam': 22, 'Mulheres que praticam': 29, 'Homens que não praticam': 71, 'Mulheres que não praticam': 93}\n"
     ]
    }
   ],
   "source": [
    "faixa_20_29 = df[(df['Idade'] >= 20) & (df['Idade'] <= 29)]\n",
    "praticam_20_29 = faixa_20_29[faixa_20_29['CategoriaPratica'] == '1x por semana ou mais']\n",
    "nao_praticam_20_29 = faixa_20_29[faixa_20_29['CategoriaPratica'] != '1x por semana ou mais']\n",
    "\n",
    "result_20_29 = {\n",
    "    'Homens que praticam': praticam_20_29[praticam_20_29['Sexo'] == 'Male'].shape[0],\n",
    "    'Mulheres que praticam': praticam_20_29[praticam_20_29['Sexo'] == 'Female'].shape[0],\n",
    "    'Homens que não praticam': nao_praticam_20_29[nao_praticam_20_29['Sexo'] == 'Male'].shape[0],\n",
    "    'Mulheres que não praticam': nao_praticam_20_29[nao_praticam_20_29['Sexo'] == 'Female'].shape[0],\n",
    "}\n",
    "print(\"\\nFaixa etária 20–29 anos:\")\n",
    "print(result_20_29)\n"
   ]
  },
  {
   "cell_type": "code",
   "execution_count": 13,
   "metadata": {},
   "outputs": [
    {
     "name": "stdout",
     "output_type": "stream",
     "text": [
      "\n",
      "Faixa etária 30–49 anos:\n",
      "{'Homens que praticam': 50, 'Mulheres que praticam': 67, 'Homens que não praticam': 154, 'Mulheres que não praticam': 182}\n"
     ]
    }
   ],
   "source": [
    "faixa_30_49 = df[(df['Idade'] >= 30) & (df['Idade'] <= 49)]\n",
    "praticam_30_49 = faixa_30_49[faixa_30_49['CategoriaPratica'] == '1x por semana ou mais']\n",
    "nao_praticam_30_49 = faixa_30_49[faixa_30_49['CategoriaPratica'] != '1x por semana ou mais']\n",
    "\n",
    "result_30_49 = {\n",
    "    'Homens que praticam': praticam_30_49[praticam_30_49['Sexo'] == 'Male'].shape[0],\n",
    "    'Mulheres que praticam': praticam_30_49[praticam_30_49['Sexo'] == 'Female'].shape[0],\n",
    "    'Homens que não praticam': nao_praticam_30_49[nao_praticam_30_49['Sexo'] == 'Male'].shape[0],\n",
    "    'Mulheres que não praticam': nao_praticam_30_49[nao_praticam_30_49['Sexo'] == 'Female'].shape[0],\n",
    "}\n",
    "print(\"\\nFaixa etária 30–49 anos:\")\n",
    "print(result_30_49)\n"
   ]
  },
  {
   "cell_type": "code",
   "execution_count": null,
   "metadata": {},
   "outputs": [
    {
     "name": "stdout",
     "output_type": "stream",
     "text": [
      "\n",
      "Faixa etária 50–60 anos:\n",
      "{'Homens que praticam': 33, 'Mulheres que praticam': 38, 'Homens que não praticam': 93, 'Mulheres que não praticam': 118}\n"
     ]
    }
   ],
   "source": [
    "faixa_50_60 = df[(df['Idade'] >= 50) & (df['Idade'] <= 60)]\n",
    "praticam_50_60 = faixa_50_60[faixa_50_60['CategoriaPratica'] == '1x por semana ou mais']\n",
    "nao_praticam_50_60 = faixa_50_60[faixa_50_60['CategoriaPratica'] != '1x por semana ou mais']\n",
    "\n",
    "result_50_60 = {\n",
    "    'Homens que praticam': praticam_50_60[praticam_50_60['Sexo'] == 'Male'].shape[0],\n",
    "    'Mulheres que praticam': praticam_50_60[praticam_50_60['Sexo'] == 'Female'].shape[0],\n",
    "    'Homens que não praticam': nao_praticam_50_60[nao_praticam_50_60['Sexo'] == 'Male'].shape[0],\n",
    "    'Mulheres que não praticam': nao_praticam_50_60[nao_praticam_50_60['Sexo'] == 'Female'].shape[0],\n",
    "}\n",
    "print(\"\\nFaixa etária 50–60 anos:\")\n",
    "print(result_50_60)\n"
   ]
  },
  {
   "cell_type": "code",
   "execution_count": 11,
   "metadata": {},
   "outputs": [
    {
     "name": "stdout",
     "output_type": "stream",
     "text": [
      "\n",
      "Faixa etária e sexo que mais praticam atividade física:\n",
      "('Female', Interval(20, 49, closed='right'))\n",
      "\n",
      "Faixa etária e sexo que menos praticam atividade física:\n",
      "('Male', Interval(49, 60, closed='right'))\n"
     ]
    },
    {
     "name": "stderr",
     "output_type": "stream",
     "text": [
      "C:\\Users\\marcos farias\\AppData\\Local\\Temp\\ipykernel_12508\\3022971955.py:3: FutureWarning: The default of observed=False is deprecated and will be changed to True in a future version of pandas. Pass observed=False to retain current behavior or observed=True to adopt the future default and silence this warning.\n",
      "  mais_pratica = faixa_pratica.groupby(['Sexo', pd.cut(df['Idade'], bins=[20, 49, 60])]).size().idxmax()\n",
      "C:\\Users\\marcos farias\\AppData\\Local\\Temp\\ipykernel_12508\\3022971955.py:4: FutureWarning: The default of observed=False is deprecated and will be changed to True in a future version of pandas. Pass observed=False to retain current behavior or observed=True to adopt the future default and silence this warning.\n",
      "  menos_pratica = faixa_pratica.groupby(['Sexo', pd.cut(df['Idade'], bins=[20, 49, 60])]).size().idxmin()\n"
     ]
    }
   ],
   "source": [
    "# Identificar faixa etária e sexo que mais praticam\n",
    "faixa_pratica = df[df['CategoriaPratica'] == '1x por semana ou mais']\n",
    "mais_pratica = faixa_pratica.groupby(['Sexo', pd.cut(df['Idade'], bins=[20, 49, 60])]).size().idxmax()\n",
    "menos_pratica = faixa_pratica.groupby(['Sexo', pd.cut(df['Idade'], bins=[20, 49, 60])]).size().idxmin()\n",
    "\n",
    "print(\"\\nFaixa etária e sexo que mais praticam atividade física:\")\n",
    "print(mais_pratica)\n",
    "print(\"\\nFaixa etária e sexo que menos praticam atividade física:\")\n",
    "print(menos_pratica)\n"
   ]
  }
 ],
 "metadata": {
  "kernelspec": {
   "display_name": "Python 3",
   "language": "python",
   "name": "python3"
  },
  "language_info": {
   "codemirror_mode": {
    "name": "ipython",
    "version": 3
   },
   "file_extension": ".py",
   "mimetype": "text/x-python",
   "name": "python",
   "nbconvert_exporter": "python",
   "pygments_lexer": "ipython3",
   "version": "3.12.4"
  }
 },
 "nbformat": 4,
 "nbformat_minor": 2
}
